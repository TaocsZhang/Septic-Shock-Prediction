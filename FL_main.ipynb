{
 "cells": [
  {
   "cell_type": "code",
   "execution_count": 6,
   "id": "d96c88fc",
   "metadata": {},
   "outputs": [],
   "source": [
    "import os\n",
    "import sys\n",
    "import copy\n",
    "import time\n",
    "import pickle\n",
    "import pandas as pd\n",
    "import numpy as np\n",
    "import matplotlib\n",
    "import matplotlib.pyplot as plt\n",
    "import random\n",
    "from random import randint\n",
    "from sklearn.metrics import confusion_matrix\n",
    "from sklearn.metrics import plot_confusion_matrix\n",
    "\n",
    "import torch\n",
    "import torch.nn as nn\n",
    "import torch.nn.functional as F\n",
    "from torch.utils.data import Dataset, DataLoader\n",
    "from torch.autograd import Variable"
   ]
  },
  {
   "cell_type": "code",
   "execution_count": 37,
   "id": "d3cccd05",
   "metadata": {},
   "outputs": [],
   "source": [
    "# self-defined modules\n",
    "\n",
    "import importlib\n",
    "from client_update import *\n",
    "from server_update import *\n",
    "from models import *\n",
    "from utlis import *"
   ]
  },
  {
   "cell_type": "code",
   "execution_count": 36,
   "id": "45bab746",
   "metadata": {},
   "outputs": [
    {
     "data": {
      "text/plain": [
       "<module 'models' from '/home/ec2-user/SageMaker/src/models.py'>"
      ]
     },
     "execution_count": 36,
     "metadata": {},
     "output_type": "execute_result"
    }
   ],
   "source": [
    "# Note: please re-import above class after reloading this block to avoid possible errors!!!!!\n",
    "\n",
    "importlib.reload(sys.modules['client_update'])\n",
    "importlib.reload(sys.modules['server_update'])\n",
    "importlib.reload(sys.modules['models'])"
   ]
  },
  {
   "cell_type": "code",
   "execution_count": 10,
   "id": "5be65283",
   "metadata": {},
   "outputs": [
    {
     "data": {
      "text/plain": [
       "'3.6.13 | packaged by conda-forge | (default, Feb 19 2021, 05:36:01) \\n[GCC 9.3.0]'"
      ]
     },
     "execution_count": 10,
     "metadata": {},
     "output_type": "execute_result"
    }
   ],
   "source": [
    "sys.version"
   ]
  },
  {
   "cell_type": "code",
   "execution_count": 31,
   "id": "a9812759",
   "metadata": {},
   "outputs": [
    {
     "data": {
      "text/plain": [
       "'/home/ec2-user/SageMaker/src/FL_main'"
      ]
     },
     "execution_count": 31,
     "metadata": {},
     "output_type": "execute_result"
    }
   ],
   "source": [
    "os.path.abspath('FL_main')"
   ]
  },
  {
   "cell_type": "markdown",
   "id": "e5659b0a",
   "metadata": {},
   "source": [
    "## Load datasets"
   ]
  },
  {
   "cell_type": "code",
   "execution_count": 14,
   "id": "7b8fcb1b",
   "metadata": {},
   "outputs": [
    {
     "name": "stdout",
     "output_type": "stream",
     "text": [
      "3172 1136\n"
     ]
    }
   ],
   "source": [
    "mimic_train_x = np.load(r\"/home/ec2-user/SageMaker/save/mimic_train_x.npy\")\n",
    "mimic_train_y = np.load(r\"/home/ec2-user/SageMaker/save/mimic_train_y.npy\")\n",
    "mimic_val_x = np.load(r\"/home/ec2-user/SageMaker/save/mimic_val_x.npy\")\n",
    "mimic_val_y = np.load(r\"/home/ec2-user/SageMaker/save/mimic_val_y.npy\")\n",
    "\n",
    "mimic_train_set = CombineDataset(mimic_train_x, mimic_train_y)\n",
    "mimic_val_set = CombineDataset(mimic_val_x, mimic_val_y)\n",
    "print(len(mimic_train_set),len(mimic_val_set))"
   ]
  },
  {
   "cell_type": "markdown",
   "id": "3871673b",
   "metadata": {},
   "source": [
    "## Centralized learning\n",
    "\n",
    "In the centralized setting, all of the training set is in one place, so I set client number = 1."
   ]
  },
  {
   "cell_type": "code",
   "execution_count": 18,
   "id": "b35ba32e",
   "metadata": {},
   "outputs": [],
   "source": [
    "# one client\n",
    "centralized_client_dict = iid_partition(mimic_train_set, 1)"
   ]
  },
  {
   "cell_type": "code",
   "execution_count": 19,
   "id": "b9dcf850",
   "metadata": {},
   "outputs": [
    {
     "name": "stdout",
     "output_type": "stream",
     "text": [
      "dataset size: 3172\n"
     ]
    }
   ],
   "source": [
    "print('dataset size:', len(centralized_client_dict[0]))"
   ]
  },
  {
   "cell_type": "code",
   "execution_count": 25,
   "id": "12d5adac",
   "metadata": {},
   "outputs": [
    {
     "name": "stdout",
     "output_type": "stream",
     "text": [
      "the number of clients: 1\n"
     ]
    }
   ],
   "source": [
    "print('the number of clients:', len(centralized_client_dict))"
   ]
  },
  {
   "cell_type": "markdown",
   "id": "35878e34",
   "metadata": {},
   "source": [
    "### Set parameters"
   ]
  },
  {
   "cell_type": "code",
   "execution_count": 22,
   "id": "12e799e4",
   "metadata": {},
   "outputs": [],
   "source": [
    "config = {\n",
    "    'mimic': {\n",
    "        'train_set': mimic_train_set, \n",
    "        'val_set': mimic_val_set, \n",
    "        'learning_rate': 0.001, \n",
    "        'batch_size': 124,\n",
    "        'epochs': 10}, \n",
    "    'guch': {\n",
    "        'train_set': 'guch_train_set', \n",
    "        'val_set': 'guch_val_set', \n",
    "        'learning_rate': 0.01, \n",
    "        'batch_size': 124,\n",
    "        'epochs': 10}\n",
    "}\n",
    "\n",
    "entity = ['mimic','guch'] # the entity who join in federated learning\n",
    "rounds = 50 # number of training rounds\n",
    "M = len(centralized_client_dict) # number of entities    \n",
    "num_classes = 3\n",
    "classes = [0, 1, 2]\n",
    "\n",
    "input_size =  13 #  the number of features\n",
    "hidden_size = 40\n",
    "num_layers = 2\n",
    "dropout = 0.2\n",
    "\n",
    "lstm = LSTM(num_classes, input_size, hidden_size, num_layers)\n",
    "\n",
    "if torch.cuda.is_available():\n",
    "    lstm.cuda()"
   ]
  },
  {
   "cell_type": "markdown",
   "id": "684da273",
   "metadata": {},
   "source": [
    "### Model training"
   ]
  },
  {
   "cell_type": "code",
   "execution_count": 23,
   "id": "27a1dceb",
   "metadata": {},
   "outputs": [
    {
     "name": "stdout",
     "output_type": "stream",
     "text": [
      "Round: 1... \tAverage Loss: 0.773\n",
      "Round: 2... \tAverage Loss: 0.647\n",
      "Round: 3... \tAverage Loss: 0.619\n",
      "Round: 4... \tAverage Loss: 0.605\n",
      "Round: 5... \tAverage Loss: 0.594\n",
      "Round: 6... \tAverage Loss: 0.591\n",
      "Round: 7... \tAverage Loss: 0.588\n",
      "Round: 8... \tAverage Loss: 0.588\n",
      "Round: 9... \tAverage Loss: 0.588\n",
      "Round: 10... \tAverage Loss: 0.587\n",
      "Round: 11... \tAverage Loss: 0.588\n",
      "Round: 12... \tAverage Loss: 0.588\n",
      "Round: 13... \tAverage Loss: 0.587\n",
      "Round: 14... \tAverage Loss: 0.587\n",
      "Round: 15... \tAverage Loss: 0.586\n",
      "Round: 16... \tAverage Loss: 0.587\n",
      "Round: 17... \tAverage Loss: 0.587\n",
      "Round: 18... \tAverage Loss: 0.586\n",
      "Round: 19... \tAverage Loss: 0.586\n",
      "Round: 20... \tAverage Loss: 0.586\n",
      "Round: 21... \tAverage Loss: 0.587\n",
      "Round: 22... \tAverage Loss: 0.585\n",
      "Round: 23... \tAverage Loss: 0.585\n",
      "Round: 24... \tAverage Loss: 0.585\n",
      "Round: 25... \tAverage Loss: 0.585\n",
      "Round: 26... \tAverage Loss: 0.585\n",
      "Round: 27... \tAverage Loss: 0.585\n",
      "Round: 28... \tAverage Loss: 0.585\n",
      "Round: 29... \tAverage Loss: 0.585\n",
      "Round: 30... \tAverage Loss: 0.584\n",
      "Round: 31... \tAverage Loss: 0.585\n",
      "Round: 32... \tAverage Loss: 0.585\n",
      "Round: 33... \tAverage Loss: 0.584\n",
      "Round: 34... \tAverage Loss: 0.585\n",
      "Round: 35... \tAverage Loss: 0.584\n",
      "Round: 36... \tAverage Loss: 0.584\n",
      "Round: 37... \tAverage Loss: 0.583\n",
      "Round: 38... \tAverage Loss: 0.583\n",
      "Round: 39... \tAverage Loss: 0.584\n",
      "Round: 40... \tAverage Loss: 0.584\n",
      "Round: 41... \tAverage Loss: 0.584\n",
      "Round: 42... \tAverage Loss: 0.583\n",
      "Round: 43... \tAverage Loss: 0.584\n",
      "Round: 44... \tAverage Loss: 0.585\n",
      "Round: 45... \tAverage Loss: 0.585\n",
      "Round: 46... \tAverage Loss: 0.584\n",
      "Round: 47... \tAverage Loss: 0.584\n",
      "Round: 48... \tAverage Loss: 0.583\n",
      "Round: 49... \tAverage Loss: 0.583\n",
      "Round: 50... \tAverage Loss: 0.584\n",
      "Training Done!\n",
      "Total time taken to Train: 903.1420776844025\n"
     ]
    },
    {
     "data": {
      "image/png": "[encoded data removed]",
      "text/plain": [
       "<Figure size 432x288 with 1 Axes>"
      ]
     },
     "metadata": {
      "needs_background": "light"
     },
     "output_type": "display_data"
    }
   ],
   "source": [
    "mimic_lstm_training = global_update(lstm, rounds, M, 'mimic', centralized_client_dict, config,  \"MIMIC_training_loss\", \"orange\")"
   ]
  },
  {
   "cell_type": "markdown",
   "id": "e9bdd7b3",
   "metadata": {},
   "source": [
    "### Model testing"
   ]
  },
  {
   "cell_type": "code",
   "execution_count": 26,
   "id": "90b5afbe",
   "metadata": {},
   "outputs": [
    {
     "name": "stdout",
     "output_type": "stream",
     "text": [
      "Test Loss: 0.587766\n",
      "\n",
      "Test Accuracy of     0: 100% (307/307)\n",
      "Test Accuracy of     1: 98% (698/711)\n",
      "Test Accuracy of     2: 76% (90/118)\n",
      "\n",
      "Final Test  Accuracy: 96.391 (1095.0/1136.0)\n"
     ]
    }
   ],
   "source": [
    "criterion = nn.CrossEntropyLoss()\n",
    "pred = testing(mimic_lstm_training, 'mimic', config, criterion, num_classes, classes)"
   ]
  },
  {
   "cell_type": "markdown",
   "id": "e28fa385",
   "metadata": {},
   "source": [
    "### Evaluation"
   ]
  },
  {
   "cell_type": "code",
   "execution_count": 27,
   "id": "eee435ed",
   "metadata": {},
   "outputs": [],
   "source": [
    "def transfer_labels(labels):\n",
    "    var = []\n",
    "    for i in range(0, labels.shape[0]):\n",
    "        var.append(labels[i][47][0])\n",
    "    return var"
   ]
  },
  {
   "cell_type": "code",
   "execution_count": 28,
   "id": "7556b2dd",
   "metadata": {},
   "outputs": [],
   "source": [
    "def transfer_predictions(array):\n",
    "    '''\n",
    "    transfer to a list \n",
    "    '''\n",
    "    var = []\n",
    "    for j in range(0,len(array)):\n",
    "        var = var + array[j].tolist() # notice the order!\n",
    "    one_size_array = np.reshape(var,-1)\n",
    "    return one_size_array.tolist()"
   ]
  },
  {
   "cell_type": "code",
   "execution_count": 29,
   "id": "2536f092",
   "metadata": {},
   "outputs": [],
   "source": [
    "y_test = transfer_labels(mimic_val_y)"
   ]
  },
  {
   "cell_type": "code",
   "execution_count": 30,
   "id": "7fd356db",
   "metadata": {},
   "outputs": [],
   "source": [
    "predictions = transfer_predictions(pred)"
   ]
  },
  {
   "cell_type": "code",
   "execution_count": 31,
   "id": "c3f04842",
   "metadata": {},
   "outputs": [],
   "source": [
    "cm = confusion_matrix(y_test, predictions)\n",
    "normed_cm = (cm.T / cm.astype(np.float).sum(axis=1)).T\n",
    "recall = np.diag(cm) / np.sum(cm, axis = 1)\n",
    "precision = np.diag(cm) / np.sum(cm, axis = 0)"
   ]
  },
  {
   "cell_type": "code",
   "execution_count": 32,
   "id": "35c962ae",
   "metadata": {},
   "outputs": [
    {
     "name": "stdout",
     "output_type": "stream",
     "text": [
      "recall: [1.         0.98171589 0.76271186]\n",
      "precision [0.99675325 0.96275862 0.87378641]\n"
     ]
    }
   ],
   "source": [
    "print('recall:', recall)\n",
    "print('precision', precision)"
   ]
  },
  {
   "cell_type": "code",
   "execution_count": 33,
   "id": "0cc2bea0",
   "metadata": {},
   "outputs": [
    {
     "data": {
      "text/plain": [
       "Text(0.5, 1.0, 'Confusion Matrix')"
      ]
     },
     "execution_count": 33,
     "metadata": {},
     "output_type": "execute_result"
    },
    {
     "data": {
      "image/png": "[encoded data removed]",
      "text/plain": [
       "<Figure size 432x288 with 2 Axes>"
      ]
     },
     "metadata": {
      "needs_background": "light"
     },
     "output_type": "display_data"
    }
   ],
   "source": [
    "import seaborn as sns\n",
    "ax= plt.subplot()\n",
    "sns.heatmap(normed_cm, annot=True, cmap='Blues', ax=ax)\n",
    "ax.set_xlabel('Predicted labels')\n",
    "ax.set_ylabel('True labels')\n",
    "ax.set_title('Confusion Matrix')\n",
    "#ax.xaxis.set_ticklabels(['business', 'health']); ax.yaxis.set_ticklabels(['health', 'business']);"
   ]
  },
  {
   "cell_type": "code",
   "execution_count": 34,
   "id": "11fa9ced",
   "metadata": {},
   "outputs": [],
   "source": [
    "torch.save(mimic_lstm_training.state_dict(), r'/home/ec2-user/SageMaker/save/lstm_mimic_model_centralized_training')"
   ]
  },
  {
   "cell_type": "markdown",
   "id": "ac5d9cf7",
   "metadata": {},
   "source": [
    "## Federated learning with the iid distribution\n",
    "\n",
    "Data in each client follow iid distribution. Here, the number of clients is set to be 5.\n",
    "\n"
   ]
  },
  {
   "cell_type": "code",
   "execution_count": 39,
   "id": "a12b767d",
   "metadata": {},
   "outputs": [],
   "source": [
    "iid_client_dict = iid_partition(mimic_train_set, 5)"
   ]
  },
  {
   "cell_type": "code",
   "execution_count": 40,
   "id": "0ea617de",
   "metadata": {},
   "outputs": [],
   "source": [
    "M = len(iid_client_dict) # number of entities    "
   ]
  },
  {
   "cell_type": "code",
   "execution_count": 42,
   "id": "a798ea01",
   "metadata": {},
   "outputs": [
    {
     "name": "stdout",
     "output_type": "stream",
     "text": [
      "[0.910711825758877, 0.890505133724363, 0.899142116383423, 0.8761878965592912, 0.895178726926587]\n",
      "Round: 1... \tAverage Loss: 0.894\n",
      "[0.7725624978730355, 0.7403453656363563, 0.7493656007085313, 0.7064624959362041, 0.7442440111554383]\n",
      "Round: 2... \tAverage Loss: 0.743\n",
      "[0.7544460709538745, 0.7220137473912644, 0.7344663705359499, 0.6947028766671189, 0.7259968305611836]\n",
      "Round: 3... \tAverage Loss: 0.726\n",
      "[0.7341009587331524, 0.6884901974855538, 0.6991821729046315, 0.6730006077500171, 0.6909292509315141]\n",
      "Round: 4... \tAverage Loss: 0.697\n",
      "[0.7163570860394921, 0.6543659610703163, 0.6850415409739462, 0.6512452430153495, 0.66840462530449]\n",
      "Round: 5... \tAverage Loss: 0.675\n",
      "[0.6952799746290743, 0.6448726158224822, 0.6652077128458475, 0.655624853511714, 0.6597806079718592]\n",
      "Round: 6... \tAverage Loss: 0.664\n",
      "[0.717818923741109, 0.6398168825388706, 0.6519156053239239, 0.633870714827667, 0.6513189951516101]\n",
      "Round: 7... \tAverage Loss: 0.659\n",
      "[0.6953998255804886, 0.6324576192473763, 0.6496897787513792, 0.6313705472728055, 0.6490975013666724]\n",
      "Round: 8... \tAverage Loss: 0.652\n",
      "[0.6728417224500458, 0.6261739945562104, 0.6347289810609367, 0.6239438157540389, 0.6368153942872297]\n",
      "Round: 9... \tAverage Loss: 0.639\n",
      "[0.6685044606965425, 0.622748217240493, 0.6272017861578367, 0.6165955104850444, 0.6318061695866027]\n",
      "Round: 10... \tAverage Loss: 0.633\n",
      "[0.6649008191910452, 0.6144270073916257, 0.6284450381336152, 0.6109821349288387, 0.633567238474494]\n",
      "Round: 11... \tAverage Loss: 0.63\n",
      "[0.642315185333276, 0.6130887183481211, 0.6153707570834116, 0.6109751534574791, 0.6284972986212287]\n",
      "Round: 12... \tAverage Loss: 0.622\n",
      "[0.6416183738678412, 0.6137044715956559, 0.6101326629378443, 0.6143400872919462, 0.6274810650747281]\n",
      "Round: 13... \tAverage Loss: 0.621\n",
      "[0.6493350904634698, 0.6051454197721151, 0.6073794088341085, 0.6052293184803864, 0.6228666090250767]\n",
      "Round: 14... \tAverage Loss: 0.618\n",
      "[0.6241814673134957, 0.602443265294427, 0.6060650258034186, 0.6074119005293501, 0.6194376803535016]\n",
      "Round: 15... \tAverage Loss: 0.612\n",
      "[0.6281274064106144, 0.6039867928727568, 0.6025170338266655, 0.6017305306455691, 0.6183202577878247]\n",
      "Round: 16... \tAverage Loss: 0.611\n",
      "[0.6297003320527, 0.6035050557050796, 0.600601755218927, 0.6059525061857061, 0.6145218276451063]\n",
      "Round: 17... \tAverage Loss: 0.611\n",
      "[0.6233768257997014, 0.5935173884363204, 0.5997668943570614, 0.5943919292947847, 0.6110335861094743]\n",
      "Round: 18... \tAverage Loss: 0.604\n",
      "[0.6181456208229066, 0.5960324770832662, 0.5987678959354618, 0.5948113446167966, 0.6113616857618939]\n",
      "Round: 19... \tAverage Loss: 0.604\n",
      "[0.6209824265365721, 0.5938251276497585, 0.5923889970553786, 0.6201768068861134, 0.6063379370639753]\n",
      "Round: 20... \tAverage Loss: 0.607\n",
      "[0.6137122588390808, 0.5919677280289142, 0.5959861652332149, 0.5918534197641848, 0.6046353032724338]\n",
      "Round: 21... \tAverage Loss: 0.6\n",
      "[0.6145096788647046, 0.5912024928944345, 0.5894394054773854, 0.5864374371545173, 0.6089156279992606]\n",
      "Round: 22... \tAverage Loss: 0.598\n",
      "[0.6114313705486454, 0.5843656007611788, 0.5877891421506082, 0.5870866024531776, 0.6033331386862493]\n",
      "Round: 23... \tAverage Loss: 0.595\n",
      "[0.6125180611287006, 0.5829426543757743, 0.5808706793311267, 0.5845143436069369, 0.5993354909803588]\n",
      "Round: 24... \tAverage Loss: 0.592\n",
      "[0.6094736377335497, 0.5825123395641519, 0.5823321081674437, 0.5843320967647179, 0.5984844784067256]\n",
      "Round: 25... \tAverage Loss: 0.591\n",
      "[0.6090665324065212, 0.5814528888144327, 0.580436291604388, 0.5835416283893284, 0.5975770843141839]\n",
      "Round: 26... \tAverage Loss: 0.59\n",
      "[0.6080638982708145, 0.5831886552861814, 0.5803428430286492, 0.5843548018473557, 0.597242764249585]\n",
      "Round: 27... \tAverage Loss: 0.591\n",
      "[0.6067575945463092, 0.5826220924921969, 0.580021289395233, 0.583865339334831, 0.5976874457736872]\n",
      "Round: 28... \tAverage Loss: 0.59\n",
      "[0.6067998515506648, 0.5814653309737847, 0.5782259899170993, 0.5858499153179326, 0.597163868458113]\n",
      "Round: 29... \tAverage Loss: 0.59\n",
      "[0.606169770587506, 0.5795380726033581, 0.5825189881520317, 0.5822783483503746, 0.5956653167208662]\n",
      "Round: 30... \tAverage Loss: 0.589\n",
      "[0.6057706966573132, 0.5811792208193229, 0.57717564226325, 0.5828878249655762, 0.5931230127623406]\n",
      "Round: 31... \tAverage Loss: 0.588\n",
      "[0.6075878321184345, 0.5811345427570282, 0.5784854325022231, 0.5823274095727818, 0.5960046299624517]\n",
      "Round: 32... \tAverage Loss: 0.589\n",
      "[0.6060443761408894, 0.5803687011593899, 0.5772872172695604, 0.5819025542081719, 0.5963413954533237]\n",
      "Round: 33... \tAverage Loss: 0.588\n",
      "[0.6064329236087739, 0.5783360516987389, 0.5776269919676735, 0.5823784343075677, 0.5947804745251448]\n",
      "Round: 34... \tAverage Loss: 0.588\n",
      "[0.6068055283948074, 0.577679764453545, 0.5783268694809934, 0.5825470713034788, 0.5937535695473103]\n",
      "Round: 35... \tAverage Loss: 0.588\n",
      "[0.607267436676597, 0.5777929569644507, 0.5794754688296033, 0.5825572937444934, 0.5938749947006394]\n",
      "Round: 36... \tAverage Loss: 0.588\n",
      "[0.6063162641382368, 0.5788734237854414, 0.5777207833735349, 0.5822741949783892, 0.5933916101132282]\n",
      "Round: 37... \tAverage Loss: 0.588\n",
      "[0.6074729578164098, 0.5771549294423606, 0.577272062158735, 0.5821144209675232, 0.593532956680665]\n",
      "Round: 38... \tAverage Loss: 0.588\n",
      "[0.6061971522092067, 0.5757294616112573, 0.5773704043698236, 0.583994862559466, 0.5927342824755406]\n",
      "Round: 39... \tAverage Loss: 0.587\n",
      "[0.6053526971994514, 0.5782776508421553, 0.5764058283450851, 0.5814350850574601, 0.593019162781231]\n",
      "Round: 40... \tAverage Loss: 0.587\n",
      "[0.605710135743445, 0.5763087714884183, 0.5758866868372595, 0.5806280972829752, 0.5923328104079334]\n",
      "Round: 41... \tAverage Loss: 0.586\n",
      "[0.6062772247693516, 0.5767319691294001, 0.5774160394721226, 0.5805494886843563, 0.5924566203111354]\n",
      "Round: 42... \tAverage Loss: 0.587\n",
      "[0.6056715971475896, 0.576679874406628, 0.5768921931835379, 0.5809575757393702, 0.5932495414834669]\n",
      "Round: 43... \tAverage Loss: 0.587\n",
      "[0.6056618260660382, 0.5767910897919808, 0.5753656602996381, 0.5824825530924631, 0.593594024215211]\n",
      "Round: 44... \tAverage Loss: 0.587\n",
      "[0.6054625219539137, 0.5764570327775336, 0.5753866081358131, 0.5816657132530815, 0.5934503319511654]\n",
      "Round: 45... \tAverage Loss: 0.586\n",
      "[0.6051394212697206, 0.5775586235410407, 0.5749063655405015, 0.5814544763474809, 0.593050187036442]\n",
      "Round: 46... \tAverage Loss: 0.586\n",
      "[0.6053906234845001, 0.5761994263351152, 0.5739113045039613, 0.5807879780557255, 0.5927118954034258]\n",
      "Round: 47... \tAverage Loss: 0.586\n",
      "[0.6054418725546226, 0.574780717294675, 0.5749483929635599, 0.5812859369189205, 0.5924002876605146]\n",
      "Round: 48... \tAverage Loss: 0.586\n",
      "[0.6051071857992407, 0.5747156618521416, 0.5753842195313811, 0.5807786211230401, 0.5945128671942449]\n",
      "Round: 49... \tAverage Loss: 0.586\n",
      "[0.6052248143999359, 0.5741893415759415, 0.5741481043562906, 0.5812773986569714, 0.5905747292921747]\n",
      "Round: 50... \tAverage Loss: 0.585\n",
      "Training Done!\n",
      "Total time taken to Train: 5288.787377119064\n"
     ]
    },
    {
     "data": {
      "image/png": "[encoded data removed]",
      "text/plain": [
       "<Figure size 432x288 with 1 Axes>"
      ]
     },
     "metadata": {
      "needs_background": "light"
     },
     "output_type": "display_data"
    }
   ],
   "source": [
    "lstm = LSTM(num_classes, input_size, hidden_size, num_layers)\n",
    "\n",
    "mimic_lstm_training = global_update(lstm, rounds, M, 'mimic', iid_client_dict, config,  \"MIMIC_training_loss\", \"orange\")"
   ]
  },
  {
   "cell_type": "code",
   "execution_count": 43,
   "id": "8371e659",
   "metadata": {},
   "outputs": [
    {
     "name": "stdout",
     "output_type": "stream",
     "text": [
      "Test Loss: 0.585003\n",
      "\n",
      "Test Accuracy of     0: 100% (307/307)\n",
      "Test Accuracy of     1: 98% (699/711)\n",
      "Test Accuracy of     2: 77% (92/118)\n",
      "\n",
      "Final Test  Accuracy: 96.655 (1098.0/1136.0)\n"
     ]
    }
   ],
   "source": [
    "criterion = nn.CrossEntropyLoss()\n",
    "pred = testing(mimic_lstm_training, 'mimic', config, criterion, num_classes, classes)"
   ]
  },
  {
   "cell_type": "code",
   "execution_count": 44,
   "id": "d8d8d4b8",
   "metadata": {},
   "outputs": [],
   "source": [
    "y_test = transfer_labels(mimic_val_y)"
   ]
  },
  {
   "cell_type": "code",
   "execution_count": 45,
   "id": "9edb5f67",
   "metadata": {},
   "outputs": [],
   "source": [
    "predictions = transfer_predictions(pred)"
   ]
  },
  {
   "cell_type": "code",
   "execution_count": 46,
   "id": "bd7b5dcb",
   "metadata": {},
   "outputs": [],
   "source": [
    "cm = confusion_matrix(y_test, predictions)\n",
    "normed_cm = (cm.T / cm.astype(np.float).sum(axis=1)).T\n",
    "recall = np.diag(cm) / np.sum(cm, axis = 1)\n",
    "precision = np.diag(cm) / np.sum(cm, axis = 0)"
   ]
  },
  {
   "cell_type": "code",
   "execution_count": 47,
   "id": "1eb96627",
   "metadata": {},
   "outputs": [
    {
     "name": "stdout",
     "output_type": "stream",
     "text": [
      "recall: [1.         0.98312236 0.77966102]\n",
      "precision [1.         0.96413793 0.88461538]\n"
     ]
    }
   ],
   "source": [
    "print('recall:', recall)\n",
    "print('precision', precision)"
   ]
  },
  {
   "cell_type": "code",
   "execution_count": 48,
   "id": "13ab66af",
   "metadata": {},
   "outputs": [
    {
     "data": {
      "text/plain": [
       "Text(0.5, 1.0, 'Confusion Matrix')"
      ]
     },
     "execution_count": 48,
     "metadata": {},
     "output_type": "execute_result"
    },
    {
     "data": {
      "image/png": "[encoded data removed]",
      "text/plain": [
       "<Figure size 432x288 with 2 Axes>"
      ]
     },
     "metadata": {
      "needs_background": "light"
     },
     "output_type": "display_data"
    }
   ],
   "source": [
    "import seaborn as sns\n",
    "ax= plt.subplot()\n",
    "sns.heatmap(normed_cm, annot=True, cmap='Blues', ax=ax)\n",
    "ax.set_xlabel('Predicted labels')\n",
    "ax.set_ylabel('True labels')\n",
    "ax.set_title('Confusion Matrix')\n",
    "#ax.xaxis.set_ticklabels(['business', 'health']); ax.yaxis.set_ticklabels(['health', 'business']);"
   ]
  },
  {
   "cell_type": "code",
   "execution_count": 49,
   "id": "40efa685",
   "metadata": {},
   "outputs": [],
   "source": [
    "torch.save(mimic_lstm_training.state_dict(), r'/home/ec2-user/SageMaker/save/lstm_mimic_model_iid_training')"
   ]
  },
  {
   "cell_type": "markdown",
   "id": "6566f70e",
   "metadata": {},
   "source": [
    "## Federated learning with the Non iid distribution\n",
    "\n",
    "Data in each client follow non-iid distribution. This is more practical situtaiton in the real life. Here, the number of clients is set to be 5.\n",
    "\n",
    "https://xzhu0027.gitbook.io/blog/ml-system/sys-ml-index/learning-from-non-iid-data"
   ]
  },
  {
   "cell_type": "code",
   "execution_count": 50,
   "id": "6295c0f8",
   "metadata": {},
   "outputs": [],
   "source": [
    "y_label = transfer_labels(mimic_train_set.y)"
   ]
  },
  {
   "cell_type": "code",
   "execution_count": 51,
   "id": "4959f327",
   "metadata": {},
   "outputs": [],
   "source": [
    "non_iid_client_dict = non_iid_partition(mimic_train_set, y_label, 5, 100, 30, 5)"
   ]
  },
  {
   "cell_type": "code",
   "execution_count": 52,
   "id": "790b255f",
   "metadata": {},
   "outputs": [],
   "source": [
    "M = len(non_iid_client_dict) # number of entities    "
   ]
  },
  {
   "cell_type": "code",
   "execution_count": 53,
   "id": "2b336231",
   "metadata": {},
   "outputs": [
    {
     "name": "stdout",
     "output_type": "stream",
     "text": [
      "[1.049997786362966, 1.064613365252813, 1.049385752995809, 1.0615125172932944, 1.0424571584860485]\n",
      "Round: 1... \tAverage Loss: 1.054\n",
      "[0.8351494747002921, 0.9125046166578927, 0.8939109811782838, 0.8417975937525431, 0.9195646843115488]\n",
      "Round: 2... \tAverage Loss: 0.881\n",
      "[0.6348214667638143, 0.7873761779467265, 0.7895078076521556, 0.6294750398794811, 0.8735403824647268]\n",
      "Round: 3... \tAverage Loss: 0.743\n",
      "[0.5911797765890757, 0.7598629217942556, 0.770517986059189, 0.579303194443385, 0.8885389783382415]\n",
      "Round: 4... \tAverage Loss: 0.718\n",
      "[0.5754150351683298, 0.7486206185022989, 0.7586265012423199, 0.5673852690855662, 0.8940418407917023]\n",
      "Round: 5... \tAverage Loss: 0.709\n",
      "[0.5703009052276612, 0.7402369981606802, 0.7467627934614817, 0.5631384208202361, 0.869662907997767]\n",
      "Round: 6... \tAverage Loss: 0.698\n",
      "[0.5682301537990571, 0.7329235650698344, 0.7384475281238556, 0.561449546178182, 0.8551012059847516]\n",
      "Round: 7... \tAverage Loss: 0.691\n",
      "[0.5674693190256754, 0.729194187561671, 0.7291948467890421, 0.5567828599611917, 0.8360430200894674]\n",
      "Round: 8... \tAverage Loss: 0.684\n",
      "[0.5673861950238546, 0.7196871358553569, 0.7185611186822255, 0.554763521750768, 0.8089592002232869]\n",
      "Round: 9... \tAverage Loss: 0.674\n",
      "[0.566681725581487, 0.7162002158959707, 0.7114394922256471, 0.5534045557975767, 0.790623898824056]\n",
      "Round: 10... \tAverage Loss: 0.668\n",
      "[0.5663650492032369, 0.7068809684117635, 0.6975688262780506, 0.5525266710917154, 0.7785036506652833]\n",
      "Round: 11... \tAverage Loss: 0.66\n",
      "[0.5651724925041199, 0.695573484579722, 0.6945383179982503, 0.5523823155562083, 0.7745775174299876]\n",
      "Round: 12... \tAverage Loss: 0.656\n",
      "[0.5611160719394682, 0.6940315856933593, 0.6732349636554718, 0.5530628947416941, 0.7575395828088124]\n",
      "Round: 13... \tAverage Loss: 0.648\n",
      "[0.5595578336715697, 0.6742549245357514, 0.6704956546624501, 0.5525479305585225, 0.7380686908562979]\n",
      "Round: 14... \tAverage Loss: 0.639\n",
      "[0.5582030402819316, 0.6726859057744344, 0.673653201421102, 0.5517479791641235, 0.7470116697947184]\n",
      "Round: 15... \tAverage Loss: 0.641\n",
      "[0.5569190079371135, 0.6637833979129791, 0.661475697517395, 0.5518657785256703, 0.7352712038358052]\n",
      "Round: 16... \tAverage Loss: 0.634\n",
      "[0.5554183727105457, 0.6607628092765807, 0.6591423089504242, 0.5517902915477753, 0.7445537718137105]\n",
      "Round: 17... \tAverage Loss: 0.634\n",
      "[0.5549361379146576, 0.6874688633282979, 0.653944350083669, 0.5527363905111948, 0.722015609105428]\n",
      "Round: 18... \tAverage Loss: 0.634\n",
      "[0.5535065948168436, 0.676376858472824, 0.6622554171085359, 0.5516674048900605, 0.7509781564871469]\n",
      "Round: 19... \tAverage Loss: 0.639\n",
      "[0.5540706911087037, 0.6477163601716359, 0.6555731367270152, 0.5515651327768962, 0.7259449289639791]\n",
      "Round: 20... \tAverage Loss: 0.627\n",
      "[0.5521649001439413, 0.6611739489237467, 0.6554910355408986, 0.5515420087973277, 0.7228098797003428]\n",
      "Round: 21... \tAverage Loss: 0.629\n",
      "[0.5529518882433574, 0.6536150590578715, 0.6696394832928975, 0.5515692478020986, 0.7113549923102062]\n",
      "Round: 22... \tAverage Loss: 0.628\n",
      "[0.5518480640252432, 0.6547502378622692, 0.6518555196126303, 0.551538830200831, 0.7137437787055968]\n",
      "Round: 23... \tAverage Loss: 0.625\n",
      "[0.552000794172287, 0.6481378184159597, 0.6445154453118642, 0.5514731435775757, 0.7127866226832072]\n",
      "Round: 24... \tAverage Loss: 0.622\n",
      "[0.5518672200043996, 0.6585355292161306, 0.6513178534507752, 0.5514925172328949, 0.7076236480077107]\n",
      "Round: 25... \tAverage Loss: 0.624\n",
      "[0.551698252995809, 0.647151612440745, 0.647457609653473, 0.5514601852099101, 0.7197576985359192]\n",
      "Round: 26... \tAverage Loss: 0.624\n",
      "[0.552461348692576, 0.6343032190004985, 0.6406407883167267, 0.5515236306190491, 0.7018458551565807]\n",
      "Round: 27... \tAverage Loss: 0.616\n",
      "[0.5519652399222056, 0.6332966694037119, 0.6464126589298248, 0.5515479306379953, 0.6820259679953258]\n",
      "Round: 28... \tAverage Loss: 0.613\n",
      "[0.5522179474830626, 0.6314723461469015, 0.6481259021759033, 0.5516567701498667, 0.695531186024348]\n",
      "Round: 29... \tAverage Loss: 0.616\n",
      "[0.5522603243986766, 0.6493993737697602, 0.6378259910742442, 0.5515868108272552, 0.7067017188072204]\n",
      "Round: 30... \tAverage Loss: 0.62\n",
      "[0.5515585551261901, 0.6258515308698018, 0.644354164203008, 0.5514742424488068, 0.689689086675644]\n",
      "Round: 31... \tAverage Loss: 0.613\n",
      "[0.5521673946380614, 0.6243107051849364, 0.6440029593308767, 0.551456139087677, 0.6983401776154835]\n",
      "Round: 32... \tAverage Loss: 0.614\n",
      "[0.5514983305136363, 0.6308351777394613, 0.6480961434841156, 0.551454681634903, 0.6923653214772543]\n",
      "Round: 33... \tAverage Loss: 0.615\n",
      "[0.5521272736390432, 0.6224549822012584, 0.6414173600673674, 0.551458054304123, 0.6991932512124378]\n",
      "Round: 34... \tAverage Loss: 0.613\n",
      "[0.5520268862247467, 0.6189985317389171, 0.6651199003855387, 0.5514564754168194, 0.7234084856510163]\n",
      "Round: 35... \tAverage Loss: 0.622\n",
      "[0.5516221071879069, 0.6244726791381835, 0.6430537858009338, 0.5521145599683126, 0.7063482499917348]\n",
      "Round: 36... \tAverage Loss: 0.616\n",
      "[0.5514814398288728, 0.6156733066240946, 0.6666848723888398, 0.5514643183549245, 0.7079749898115795]\n",
      "Round: 37... \tAverage Loss: 0.619\n",
      "[0.5528099892139435, 0.6258831497828166, 0.6398112325668335, 0.5526269663174946, 0.6962057429154714]\n",
      "Round: 38... \tAverage Loss: 0.613\n",
      "[0.5514559810956319, 0.61124427541097, 0.6340131688912709, 0.5514569636980693, 0.6893147996266682]\n",
      "Round: 39... \tAverage Loss: 0.607\n",
      "[0.5514502432346344, 0.6132613987127941, 0.6603019026915232, 0.5514475397268932, 0.6973347644011179]\n",
      "Round: 40... \tAverage Loss: 0.615\n",
      "[0.5514505998293558, 0.6475456511974335, 0.6484029714266459, 0.55144815659523, 0.6891455447673798]\n",
      "Round: 41... \tAverage Loss: 0.618\n",
      "[0.551451080083847, 0.6166854178905485, 0.6466333876450856, 0.551446666320165, 0.686019073565801]\n",
      "Round: 42... \tAverage Loss: 0.61\n",
      "[0.551448465983073, 0.6149581395785013, 0.6366188998222351, 0.5514462672869365, 0.6847013001441955]\n",
      "Round: 43... \tAverage Loss: 0.608\n",
      "[0.5523431193033854, 0.6181374828020733, 0.6367175064086914, 0.5514974474112193, 0.6863848030567168]\n",
      "Round: 44... \tAverage Loss: 0.609\n",
      "[0.5515053246021271, 0.6083833155632019, 0.6311592307090759, 0.5514536052544912, 0.6795256876945495]\n",
      "Round: 45... \tAverage Loss: 0.604\n",
      "[0.5514577411810558, 0.6115677347977957, 0.6864175891081492, 0.5514468208154042, 0.6787051619688669]\n",
      "Round: 46... \tAverage Loss: 0.616\n",
      "[0.5514468307495116, 0.6099448828697205, 0.6514769082864125, 0.5514701178073882, 0.7034966222445169]\n",
      "Round: 47... \tAverage Loss: 0.614\n",
      "[0.5540741464296978, 0.6066060758431753, 0.664168484767278, 0.5527736732959748, 0.6788625580469768]\n",
      "Round: 48... \tAverage Loss: 0.611\n",
      "[0.5515005856355031, 0.6085622958342234, 0.6508396869500478, 0.551446834007899, 0.6964376351038615]\n",
      "Round: 49... \tAverage Loss: 0.612\n",
      "[0.5516472184658051, 0.62908766412735, 0.6209476897716522, 0.552777821779251, 0.6917843698660532]\n",
      "Round: 50... \tAverage Loss: 0.609\n",
      "Training Done!\n",
      "Total time taken to Train: 438.7528100013733\n"
     ]
    },
    {
     "data": {
      "image/png": "[encoded data removed]",
      "text/plain": [
       "<Figure size 432x288 with 1 Axes>"
      ]
     },
     "metadata": {
      "needs_background": "light"
     },
     "output_type": "display_data"
    }
   ],
   "source": [
    "lstm = LSTM(num_classes, input_size, hidden_size, num_layers)\n",
    "\n",
    "mimic_lstm_training = global_update(lstm, rounds, M, 'mimic', non_iid_client_dict, config,  \"MIMIC_training_loss\", \"orange\")"
   ]
  },
  {
   "cell_type": "code",
   "execution_count": 54,
   "id": "bf71002f",
   "metadata": {
    "scrolled": true
   },
   "outputs": [
    {
     "name": "stdout",
     "output_type": "stream",
     "text": [
      "Test Loss: 0.641277\n",
      "\n",
      "Test Accuracy of     0: 100% (307/307)\n",
      "Test Accuracy of     1: 94% (674/711)\n",
      "Test Accuracy of     2: 45% (54/118)\n",
      "\n",
      "Final Test  Accuracy: 91.109 (1035.0/1136.0)\n"
     ]
    }
   ],
   "source": [
    "criterion = nn.CrossEntropyLoss()\n",
    "pred = testing(mimic_lstm_training, 'mimic', config, criterion, num_classes, classes)"
   ]
  },
  {
   "cell_type": "code",
   "execution_count": 55,
   "id": "8992c218",
   "metadata": {},
   "outputs": [],
   "source": [
    "y_test = transfer_labels(mimic_val_y)"
   ]
  },
  {
   "cell_type": "code",
   "execution_count": 56,
   "id": "8b657e6f",
   "metadata": {},
   "outputs": [],
   "source": [
    "predictions = transfer_predictions(pred)"
   ]
  },
  {
   "cell_type": "code",
   "execution_count": 57,
   "id": "06e5b59a",
   "metadata": {},
   "outputs": [],
   "source": [
    "cm = confusion_matrix(y_test, predictions)\n",
    "normed_cm = (cm.T / cm.astype(np.float).sum(axis=1)).T\n",
    "recall = np.diag(cm) / np.sum(cm, axis = 1)\n",
    "precision = np.diag(cm) / np.sum(cm, axis = 0)"
   ]
  },
  {
   "cell_type": "code",
   "execution_count": 58,
   "id": "7f196052",
   "metadata": {},
   "outputs": [
    {
     "name": "stdout",
     "output_type": "stream",
     "text": [
      "recall: [1.         0.94796062 0.45762712]\n",
      "precision [0.99675325 0.91451832 0.59340659]\n"
     ]
    }
   ],
   "source": [
    "print('recall:', recall)\n",
    "print('precision', precision)"
   ]
  },
  {
   "cell_type": "code",
   "execution_count": 59,
   "id": "57ee996c",
   "metadata": {},
   "outputs": [
    {
     "data": {
      "text/plain": [
       "Text(0.5, 1.0, 'Confusion Matrix')"
      ]
     },
     "execution_count": 59,
     "metadata": {},
     "output_type": "execute_result"
    },
    {
     "data": {
      "image/png": "[encoded data removed]",
      "text/plain": [
       "<Figure size 432x288 with 2 Axes>"
      ]
     },
     "metadata": {
      "needs_background": "light"
     },
     "output_type": "display_data"
    }
   ],
   "source": [
    "import seaborn as sns\n",
    "ax= plt.subplot()\n",
    "sns.heatmap(normed_cm, annot=True, cmap='Blues', ax=ax)\n",
    "ax.set_xlabel('Predicted labels')\n",
    "ax.set_ylabel('True labels')\n",
    "ax.set_title('Confusion Matrix')\n",
    "#ax.xaxis.set_ticklabels(['business', 'health']); ax.yaxis.set_ticklabels(['health', 'business']);"
   ]
  },
  {
   "cell_type": "code",
   "execution_count": 60,
   "id": "e75e1a55",
   "metadata": {},
   "outputs": [],
   "source": [
    "torch.save(mimic_lstm_training.state_dict(), r'/home/ec2-user/SageMaker/save/lstm_mimic_model_noniid_training')"
   ]
  },
  {
   "cell_type": "markdown",
   "id": "306a4916",
   "metadata": {},
   "source": [
    "The result of 100 rounds training.\n",
    "---"
   ]
  },
  {
   "cell_type": "code",
   "execution_count": 61,
   "id": "5723b9ab",
   "metadata": {},
   "outputs": [
    {
     "name": "stdout",
     "output_type": "stream",
     "text": [
      "[1.0754880612691244, 1.0515573042233783, 1.0708331971963247, 1.0709035144646963, 1.0561579184532164]\n",
      "Round: 1... \tAverage Loss: 1.065\n",
      "[0.8468877081076304, 0.8954417556921641, 0.9173249348799388, 0.8345431981881459, 0.9449336638450623]\n",
      "Round: 2... \tAverage Loss: 0.888\n",
      "[0.630124368349711, 0.7716965305805206, 0.7987769140402475, 0.6158329135576883, 0.890355711142222]\n",
      "Round: 3... \tAverage Loss: 0.741\n",
      "[0.5855474030971528, 0.7545190877119701, 0.774208825747172, 0.5771353100935618, 0.8931929959456125]\n",
      "Round: 4... \tAverage Loss: 0.717\n",
      "[0.575645537217458, 0.743565540154775, 0.75913809744517, 0.5665289402008057, 0.8869545345306398]\n",
      "Round: 5... \tAverage Loss: 0.706\n",
      "[0.5706844225724538, 0.7390681695143382, 0.7467047371069591, 0.563538026491801, 0.8672492246627808]\n",
      "Round: 6... \tAverage Loss: 0.697\n",
      "[0.5682624662717183, 0.7292592918078105, 0.7352390775680543, 0.560839464823405, 0.8577554260094962]\n",
      "Round: 7... \tAverage Loss: 0.69\n",
      "[0.5674430094559987, 0.719734347184499, 0.7293674279848734, 0.5563364494641622, 0.8398340069452921]\n",
      "Round: 8... \tAverage Loss: 0.683\n",
      "[0.5641827727158863, 0.7123885582288106, 0.7173468621571859, 0.5564439653555553, 0.8091911993026732]\n",
      "Round: 9... \tAverage Loss: 0.672\n",
      "[0.5619539771874746, 0.6940281279881795, 0.702530709584554, 0.554355182170868, 0.7847715195020041]\n",
      "Round: 10... \tAverage Loss: 0.66\n",
      "[0.5609406290054321, 0.6807613330682118, 0.6930461471080779, 0.5553881102403004, 0.7643518583774568]\n",
      "Round: 11... \tAverage Loss: 0.651\n",
      "[0.5590623989899954, 0.6679457318782805, 0.6799179334640504, 0.5539958402315776, 0.7598740645249684]\n",
      "Round: 12... \tAverage Loss: 0.644\n",
      "[0.559280537366867, 0.659391619126002, 0.6705695563952128, 0.5534602007071177, 0.7444266281922658]\n",
      "Round: 13... \tAverage Loss: 0.637\n",
      "[0.5589957441488902, 0.6605396400292716, 0.6717939937114716, 0.5535336307684581, 0.731249833981196]\n",
      "Round: 14... \tAverage Loss: 0.635\n",
      "[0.556182046731313, 0.6503468257586161, 0.660939168691635, 0.5536372470855713, 0.7208239014148712]\n",
      "Round: 15... \tAverage Loss: 0.628\n",
      "[0.5569453451633454, 0.6509661415417989, 0.6579174296855925, 0.5533961919943492, 0.7002813045183818]\n",
      "Round: 16... \tAverage Loss: 0.624\n",
      "[0.555332004070282, 0.6404679145018259, 0.6421633383433025, 0.5527868809700012, 0.7077234577337902]\n",
      "Round: 17... \tAverage Loss: 0.62\n",
      "[0.5548490394751231, 0.6416104288895925, 0.6556598321596782, 0.5522614869276682, 0.7051487842400868]\n",
      "Round: 18... \tAverage Loss: 0.622\n",
      "[0.5542002534866334, 0.6357430899937947, 0.6357104833920796, 0.5522266012032827, 0.7049420905907949]\n",
      "Round: 19... \tAverage Loss: 0.617\n",
      "[0.5531838671366375, 0.6396171843210856, 0.6458033235867818, 0.5524887782732646, 0.6835324110984802]\n",
      "Round: 20... \tAverage Loss: 0.615\n",
      "[0.5523703662554422, 0.6437248812516531, 0.6322757554848988, 0.5521143577893575, 0.6845265060265859]\n",
      "Round: 21... \tAverage Loss: 0.613\n",
      "[0.552825163046519, 0.6354456387360891, 0.6509706519444783, 0.5519875582853954, 0.6877321464220684]\n",
      "Round: 22... \tAverage Loss: 0.616\n",
      "[0.5523013940652212, 0.6367533713181813, 0.6439893528620402, 0.5520655412673949, 0.6944168295065561]\n",
      "Round: 23... \tAverage Loss: 0.616\n",
      "[0.551880117336909, 0.6343692953586577, 0.628930613040924, 0.5518886942863463, 0.6698323467572529]\n",
      "Round: 24... \tAverage Loss: 0.607\n",
      "[0.5517037529150646, 0.6320190390745799, 0.6271690059502919, 0.5519377601941426, 0.6783156388600668]\n",
      "Round: 25... \tAverage Loss: 0.608\n",
      "[0.5523640940189362, 0.6292777960300447, 0.6479432945251464, 0.5516256773471833, 0.6810187510649363]\n",
      "Round: 26... \tAverage Loss: 0.612\n",
      "[0.5516726357936859, 0.6280947656631469, 0.6386558987299602, 0.5515655506451924, 0.6699143890539804]\n",
      "Round: 27... \tAverage Loss: 0.608\n",
      "[0.5517881824175517, 0.6307256721655528, 0.6268321511745453, 0.5516035681565602, 0.6861575417518616]\n",
      "Round: 28... \tAverage Loss: 0.609\n",
      "[0.5517986831665039, 0.6196398999691008, 0.632957329750061, 0.5518932620684305, 0.6653980382283529]\n",
      "Round: 29... \tAverage Loss: 0.604\n",
      "[0.5519434555371603, 0.6185317931175232, 0.6368108948071798, 0.5515405275026957, 0.6766927257378896]\n",
      "Round: 30... \tAverage Loss: 0.607\n",
      "[0.5516277816295624, 0.6164936056931813, 0.6308664871851604, 0.5514900861581167, 0.6870595593452454]\n",
      "Round: 31... \tAverage Loss: 0.608\n",
      "[0.5528332343101501, 0.616687601884206, 0.6237474846045176, 0.5520783368746439, 0.6524427274862926]\n",
      "Round: 32... \tAverage Loss: 0.6\n",
      "[0.5514998747507731, 0.6146399266719818, 0.6387232731978097, 0.5514659389654796, 0.670382706085841]\n",
      "Round: 33... \tAverage Loss: 0.605\n",
      "[0.5514674436251322, 0.6148436596393585, 0.6211650240421296, 0.5520970549583435, 0.6637325800259908]\n",
      "Round: 34... \tAverage Loss: 0.601\n",
      "[0.5520371907552083, 0.6154636047681172, 0.6325937677224478, 0.5514618084430695, 0.6494250038464865]\n",
      "Round: 35... \tAverage Loss: 0.6\n",
      "[0.5514772939682006, 0.6110506238142649, 0.6432360877195995, 0.5521147488753, 0.6624488554795583]\n",
      "Round: 36... \tAverage Loss: 0.604\n",
      "[0.5514610421657562, 0.6126408642133077, 0.6378401872316996, 0.5516112991174063, 0.6622163177331288]\n",
      "Round: 37... \tAverage Loss: 0.603\n",
      "[0.5514894576072692, 0.6114331827163696, 0.6235961639881135, 0.551465969880422, 0.6610234758853911]\n",
      "Round: 38... \tAverage Loss: 0.6\n",
      "[0.551524782816569, 0.6141507140000662, 0.6249940687815347, 0.5514728773434957, 0.6512969569365183]\n",
      "Round: 39... \tAverage Loss: 0.599\n",
      "[0.551458668311437, 0.6159185129006703, 0.6295435422261556, 0.5514541749159495, 0.6670224843025208]\n",
      "Round: 40... \tAverage Loss: 0.603\n",
      "[0.5514514881769816, 0.6089664035638174, 0.630146631081899, 0.551451220035553, 0.6500267639954884]\n",
      "Round: 41... \tAverage Loss: 0.598\n",
      "[0.5514682185649873, 0.6063227330843608, 0.6163735734621684, 0.5514543777306875, 0.6654158180554709]\n",
      "Round: 42... \tAverage Loss: 0.598\n",
      "[0.551449891726176, 0.615699027299881, 0.6201705293655396, 0.5514495658079783, 0.6550972896416981]\n",
      "Round: 43... \tAverage Loss: 0.599\n",
      "[0.5514542390505472, 0.610105386654536, 0.6173133316834767, 0.5519496683279673, 0.6550219105084737]\n",
      "Round: 44... \tAverage Loss: 0.597\n",
      "[0.5514721204439799, 0.6157357165813446, 0.6124321509202323, 0.5514474403063457, 0.6632202355066934]\n",
      "Round: 45... \tAverage Loss: 0.599\n",
      "[0.5514738024075826, 0.6065775662263234, 0.6185843126773835, 0.5523813609282175, 0.6690367316404979]\n",
      "Round: 46... \tAverage Loss: 0.6\n",
      "[0.5514639183680217, 0.6095815490881602, 0.6077761221726735, 0.5514836568832397, 0.6369698515733082]\n",
      "Round: 47... \tAverage Loss: 0.591\n",
      "[0.5514918112754821, 0.6046679104963939, 0.6142375965118408, 0.5514513370196026, 0.6514761442343395]\n",
      "Round: 48... \tAverage Loss: 0.595\n",
      "[0.5514474539756775, 0.6082373773256936, 0.6013781847159068, 0.5514469534556071, 0.6372828280131022]\n",
      "Round: 49... \tAverage Loss: 0.59\n",
      "[0.5514463628133137, 0.6069922729333241, 0.624256460428238, 0.5514463276068369, 0.6604761668841045]\n",
      "Round: 50... \tAverage Loss: 0.599\n",
      "[0.5514458882013957, 0.6121096037228902, 0.6062745101451874, 0.5514474362532298, 0.6618817342917125]\n",
      "Round: 51... \tAverage Loss: 0.597\n",
      "[0.5514528379440308, 0.6060360175768535, 0.5996651113033296, 0.5516332897345225, 0.6256822274525959]\n",
      "Round: 52... \tAverage Loss: 0.587\n",
      "[0.551447665055593, 0.6078263328870137, 0.6047457808653514, 0.5514482855002086, 0.7052378294467926]\n",
      "Round: 53... \tAverage Loss: 0.604\n",
      "[0.5514470828374227, 0.6097318182786305, 0.6013572764396667, 0.5515048361619314, 0.6356055735747019]\n",
      "Round: 54... \tAverage Loss: 0.59\n",
      "[0.5514459850788116, 0.6022005129655202, 0.5999998697439828, 0.5514460087617239, 0.6510720844268799]\n",
      "Round: 55... \tAverage Loss: 0.591\n",
      "[0.5514454193909963, 0.6057116940816243, 0.5979789166450501, 0.5514459478855133, 0.6456752896308899]\n",
      "Round: 56... \tAverage Loss: 0.59\n",
      "[0.5514452920754751, 0.6061802783807118, 0.6081254910628, 0.5514452695051829, 0.6526000520388285]\n",
      "Round: 57... \tAverage Loss: 0.594\n",
      "[0.5514455875555674, 0.6052106789747873, 0.6134151717821756, 0.5514451258182527, 0.6334875438213349]\n",
      "Round: 58... \tAverage Loss: 0.591\n",
      "[0.5514452582995097, 0.6006641490459441, 0.6084626210530599, 0.5514451240698497, 0.6596985794703166]\n",
      "Round: 59... \tAverage Loss: 0.594\n",
      "[0.5514452191193899, 0.601004365603129, 0.6035979079405467, 0.5514451526006063, 0.6407734735806783]\n",
      "Round: 60... \tAverage Loss: 0.59\n",
      "[0.5514451200962067, 0.6121304500897726, 0.6036311599413554, 0.5520732837518058, 0.646962835629781]\n",
      "Round: 61... \tAverage Loss: 0.593\n",
      "[0.551445011774699, 0.6043709707260131, 0.6013995552857717, 0.551450157403946, 0.6272528731028238]\n",
      "Round: 62... \tAverage Loss: 0.587\n"
     ]
    },
    {
     "name": "stdout",
     "output_type": "stream",
     "text": [
      "[0.5514452848434448, 0.6018374470074971, 0.6125512498219808, 0.5514450217088065, 0.6407936813036601]\n",
      "Round: 63... \tAverage Loss: 0.592\n",
      "[0.5514451056321462, 0.5989164988199869, 0.615700470050176, 0.551485944112142, 0.6307962175210317]\n",
      "Round: 64... \tAverage Loss: 0.59\n",
      "[0.5514450898965201, 0.6014300243854522, 0.5952450985908507, 0.551447293361028, 0.6336453864574432]\n",
      "Round: 65... \tAverage Loss: 0.587\n",
      "[0.5514452589352927, 0.6028818736076353, 0.5918187824885052, 0.5514451064268749, 0.6415926965077717]\n",
      "Round: 66... \tAverage Loss: 0.588\n",
      "[0.551445260445277, 0.6009311504364014, 0.5923495552539826, 0.5514463863372803, 0.6379753470420837]\n",
      "Round: 67... \tAverage Loss: 0.587\n",
      "[0.5514453234672547, 0.5984995161692301, 0.6020855856736501, 0.5525920766194662, 0.6273722118536631]\n",
      "Round: 68... \tAverage Loss: 0.586\n",
      "[0.5514462895393372, 0.6057986561457317, 0.607301565806071, 0.5527324063777923, 0.6232193063894906]\n",
      "Round: 69... \tAverage Loss: 0.588\n",
      "[0.5514451340039572, 0.6013524234294891, 0.5910236190160114, 0.5514449968338014, 0.6179319024085999]\n",
      "Round: 70... \tAverage Loss: 0.583\n",
      "[0.5514453000227612, 0.6017239896456401, 0.6030465583006541, 0.5514449859460197, 0.6255248446464539]\n",
      "Round: 71... \tAverage Loss: 0.587\n",
      "[0.5514456888834636, 0.6038745296001434, 0.6004729295571646, 0.5514450767040254, 0.6278042668501537]\n",
      "Round: 72... \tAverage Loss: 0.587\n",
      "[0.5514449543158213, 0.6011686130364737, 0.611339431921641, 0.5514458281199138, 0.6409445309638977]\n",
      "Round: 73... \tAverage Loss: 0.591\n",
      "[0.5514449621041617, 0.5945824659665426, 0.5951263512770335, 0.551445006688436, 0.6351393098831177]\n",
      "Round: 74... \tAverage Loss: 0.586\n",
      "[0.5514450250466666, 0.6007883355617523, 0.6055843059221904, 0.5514449939727785, 0.6284223056634266]\n",
      "Round: 75... \tAverage Loss: 0.588\n",
      "[0.5514450699488322, 0.6076379594008128, 0.589662453254064, 0.5514451264540357, 0.6268341720898946]\n",
      "Round: 76... \tAverage Loss: 0.585\n",
      "[0.5514450538953146, 0.598509503444036, 0.587624979019165, 0.5520884632269543, 0.6244541476567587]\n",
      "Round: 77... \tAverage Loss: 0.583\n",
      "[0.5514450422128043, 0.5965938500563304, 0.5997992683251698, 0.5515985124905904, 0.6344452555179596]\n",
      "Round: 78... \tAverage Loss: 0.587\n",
      "[0.5514450271924338, 0.5982658261458079, 0.588243497689565, 0.5521064896583558, 0.6268649450937908]\n",
      "Round: 79... \tAverage Loss: 0.583\n",
      "[0.5514449690977734, 0.606684238354365, 0.5944512960116068, 0.5514449395338695, 0.6313800400098165]\n",
      "Round: 80... \tAverage Loss: 0.587\n",
      "[0.5514449317455293, 0.5979630377292634, 0.5901121648947398, 0.5521026093165081, 0.627748704512914]\n",
      "Round: 81... \tAverage Loss: 0.584\n",
      "[0.5514453991254171, 0.5970346264839173, 0.6032125863234202, 0.5521950830618539, 0.6514786678949992]\n",
      "Round: 82... \tAverage Loss: 0.591\n",
      "[0.551445209423701, 0.5975892357826232, 0.5930981388092041, 0.5514449532826743, 0.6358525022665659]\n",
      "Round: 83... \tAverage Loss: 0.586\n",
      "[0.5514449683030448, 0.6011346911589305, 0.5952553845246633, 0.5514449286460879, 0.63685666569074]\n",
      "Round: 84... \tAverage Loss: 0.587\n",
      "[0.5514449410438538, 0.5996911283334098, 0.5974694366455078, 0.5514449177583061, 0.6376043320496877]\n",
      "Round: 85... \tAverage Loss: 0.588\n",
      "[0.5514449672698976, 0.5945571619669596, 0.5868006037871043, 0.5514450124104819, 0.6231087469259898]\n",
      "Round: 86... \tAverage Loss: 0.581\n",
      "[0.5514449265797935, 0.5957468854586283, 0.5936456122398376, 0.5514449226856233, 0.6235211219787598]\n",
      "Round: 87... \tAverage Loss: 0.583\n",
      "[0.5514449374675752, 0.5942590731779733, 0.5974871389071147, 0.5521104167302451, 0.6128892652193705]\n",
      "Round: 88... \tAverage Loss: 0.582\n",
      "[0.551447765191396, 0.5971679626305899, 0.5855107983748118, 0.551444952249527, 0.6091709959506988]\n",
      "Round: 89... \tAverage Loss: 0.579\n",
      "[0.5514450054168701, 0.6004207512537638, 0.5874169952869415, 0.551444936434428, 0.6240146865049998]\n",
      "Round: 90... \tAverage Loss: 0.583\n",
      "[0.5514449187914532, 0.5934530414740244, 0.5970706677436828, 0.5514449187914532, 0.6245825672149657]\n",
      "Round: 91... \tAverage Loss: 0.584\n",
      "[0.5514449711640677, 0.593275685707728, 0.5896309703985849, 0.5521130905151368, 0.6167468233108521]\n",
      "Round: 92... \tAverage Loss: 0.581\n",
      "[0.5514449216524762, 0.5930006013711293, 0.5991119767030081, 0.5520580770174663, 0.6259287058512368]\n",
      "Round: 93... \tAverage Loss: 0.584\n",
      "[0.5514452269872029, 0.5962132433255515, 0.5901074828306834, 0.5514731403191885, 0.6142743888696035]\n",
      "Round: 94... \tAverage Loss: 0.581\n",
      "[0.5514449888070426, 0.5974519720077515, 0.5962067195574442, 0.5514449524879457, 0.6199085857073465]\n",
      "Round: 95... \tAverage Loss: 0.583\n",
      "[0.5514449216524762, 0.5960143515268961, 0.5883805486361185, 0.5514449177583061, 0.6213241621653239]\n",
      "Round: 96... \tAverage Loss: 0.582\n",
      "[0.551444929679235, 0.5989874347050984, 0.5804743718306224, 0.5514450103441876, 0.6176168227990468]\n",
      "Round: 97... \tAverage Loss: 0.58\n",
      "[0.5514449444611869, 0.5968477048873901, 0.5760495748519896, 0.551444952249527, 0.6391918798287709]\n",
      "Round: 98... \tAverage Loss: 0.583\n",
      "[0.5514449208577475, 0.5933720591862996, 0.5847900164127349, 0.5514449216524762, 0.6193538859685263]\n",
      "Round: 99... \tAverage Loss: 0.58\n",
      "[0.5514449247519176, 0.5952139541308086, 0.5921219910780589, 0.5514487846692404, 0.6113894627888997]\n",
      "Round: 100... \tAverage Loss: 0.58\n",
      "Training Done!\n",
      "Total time taken to Train: 539.1616044044495\n"
     ]
    },
    {
     "data": {
      "image/png": "[encoded data removed]",
      "text/plain": [
       "<Figure size 432x288 with 1 Axes>"
      ]
     },
     "metadata": {
      "needs_background": "light"
     },
     "output_type": "display_data"
    }
   ],
   "source": [
    "lstm = LSTM(num_classes, input_size, hidden_size, num_layers)\n",
    "rounds = 100 # number of training rounds\n",
    "\n",
    "mimic_lstm_training = global_update(lstm, rounds, M, 'mimic', non_iid_client_dict, config,  \"MIMIC_training_loss\", \"orange\")"
   ]
  },
  {
   "cell_type": "code",
   "execution_count": 62,
   "id": "a9cb5d1c",
   "metadata": {},
   "outputs": [
    {
     "name": "stdout",
     "output_type": "stream",
     "text": [
      "Test Loss: 0.629984\n",
      "\n",
      "Test Accuracy of     0: 100% (307/307)\n",
      "Test Accuracy of     1: 96% (685/711)\n",
      "Test Accuracy of     2: 46% (55/118)\n",
      "\n",
      "Final Test  Accuracy: 92.165 (1047.0/1136.0)\n"
     ]
    }
   ],
   "source": [
    "criterion = nn.CrossEntropyLoss()\n",
    "pred = testing(mimic_lstm_training, 'mimic', config, criterion, num_classes, classes)"
   ]
  },
  {
   "cell_type": "code",
   "execution_count": 63,
   "id": "94529b77",
   "metadata": {},
   "outputs": [],
   "source": [
    "y_test = transfer_labels(mimic_val_y)\n",
    "predictions = transfer_predictions(pred)\n",
    "\n",
    "cm = confusion_matrix(y_test, predictions)\n",
    "normed_cm = (cm.T / cm.astype(np.float).sum(axis=1)).T\n",
    "recall = np.diag(cm) / np.sum(cm, axis = 1)\n",
    "precision = np.diag(cm) / np.sum(cm, axis = 0)"
   ]
  },
  {
   "cell_type": "code",
   "execution_count": 64,
   "id": "61ece75e",
   "metadata": {},
   "outputs": [
    {
     "name": "stdout",
     "output_type": "stream",
     "text": [
      "recall: [1.         0.96343179 0.46610169]\n",
      "precision [0.99675325 0.91700134 0.67901235]\n"
     ]
    }
   ],
   "source": [
    "print('recall:', recall)\n",
    "print('precision', precision)"
   ]
  },
  {
   "cell_type": "code",
   "execution_count": 65,
   "id": "d13f19a2",
   "metadata": {},
   "outputs": [
    {
     "data": {
      "text/plain": [
       "Text(0.5, 1.0, 'Confusion Matrix')"
      ]
     },
     "execution_count": 65,
     "metadata": {},
     "output_type": "execute_result"
    },
    {
     "data": {
      "image/png": "[encoded data removed]",
      "text/plain": [
       "<Figure size 432x288 with 2 Axes>"
      ]
     },
     "metadata": {
      "needs_background": "light"
     },
     "output_type": "display_data"
    }
   ],
   "source": [
    "import seaborn as sns\n",
    "ax= plt.subplot()\n",
    "sns.heatmap(normed_cm, annot=True, cmap='Blues', ax=ax)\n",
    "ax.set_xlabel('Predicted labels')\n",
    "ax.set_ylabel('True labels')\n",
    "ax.set_title('Confusion Matrix')\n",
    "#ax.xaxis.set_ticklabels(['business', 'health']); ax.yaxis.set_ticklabels(['health', 'business']);"
   ]
  },
  {
   "cell_type": "code",
   "execution_count": null,
   "id": "fb3a59bc",
   "metadata": {},
   "outputs": [],
   "source": []
  }
 ],
 "metadata": {
  "kernelspec": {
   "display_name": "conda_pytorch_latest_p36",
   "language": "python",
   "name": "conda_pytorch_latest_p36"
  },
  "language_info": {
   "codemirror_mode": {
    "name": "ipython",
    "version": 3
   },
   "file_extension": ".py",
   "mimetype": "text/x-python",
   "name": "python",
   "nbconvert_exporter": "python",
   "pygments_lexer": "ipython3",
   "version": "3.6.13"
  }
 },
 "nbformat": 4,
 "nbformat_minor": 5
}
