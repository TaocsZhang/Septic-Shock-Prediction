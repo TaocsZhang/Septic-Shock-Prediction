{
 "cells": [
  {
   "cell_type": "code",
   "execution_count": 1,
   "id": "eea138b9",
   "metadata": {},
   "outputs": [],
   "source": [
    "import os\n",
    "import copy\n",
    "import time\n",
    "import pickle\n",
    "import pandas as pd\n",
    "import numpy as np\n",
    "import matplotlib\n",
    "import matplotlib.pyplot as plt\n",
    "import random\n",
    "from random import randint\n",
    "\n",
    "import torch\n",
    "import torch.nn as nn\n",
    "import torch.nn.functional as F\n",
    "from torch.utils.data import Dataset, DataLoader\n",
    "from torch.autograd import Variable"
   ]
  },
  {
   "cell_type": "code",
   "execution_count": 2,
   "id": "08d0d748",
   "metadata": {},
   "outputs": [
    {
     "data": {
      "text/plain": [
       "'3.6.13 | packaged by conda-forge | (default, Feb 19 2021, 05:36:01) \\n[GCC 9.3.0]'"
      ]
     },
     "execution_count": 2,
     "metadata": {},
     "output_type": "execute_result"
    }
   ],
   "source": [
    "import sys\n",
    "sys.version"
   ]
  },
  {
   "cell_type": "code",
   "execution_count": 3,
   "id": "4a2446a5",
   "metadata": {},
   "outputs": [],
   "source": [
    "DATA_SET_TYPE = \"mimic\" # Either MIMIC or GCUH\n",
    "TRAINING_VERSION = \"0.0.2\"\n",
    "\n",
    "CONFIG_TRAINING_TEMPLATES = {\n",
    "    \"0.0.1\": {\n",
    "        \"septic_shock_balance_ratio\": 0.75,\n",
    "        \"mimic_data_version\": \"0.0.4\",\n",
    "        \"gcuh_data_version\": \"0.0.4\"\n",
    "    },\n",
    "    \"0.0.2\": {\n",
    "        \"septic_shock_balance_ratio\": 0.5,\n",
    "        \"mimic_data_version\": \"0.0.4\",\n",
    "        \"gcuh_data_version\": \"0.0.5\"\n",
    "    }\n",
    "}\n",
    "\n",
    "CONFIG = CONFIG_TRAINING_TEMPLATES[TRAINING_VERSION]"
   ]
  },
  {
   "cell_type": "code",
   "execution_count": 39,
   "id": "ec306e70",
   "metadata": {},
   "outputs": [],
   "source": [
    "import boto3\n",
    "from FileHandler import FileHandler\n",
    "from process_data import process_dataframe, no_padding\n",
    "\n",
    "\n",
    "#ROLE_ARN = \"arn:aws:iam::578915155280:role/DatarweSepsisArdsAdmin\"\n",
    "#ROLE_SESSION_NAME = \"DatarweSepsisArdsAdmin\"\n",
    "\n",
    "fh = FileHandler(root='datarwe-ml-data', cache=True)\n",
    "#fh.assume_role(ROLE_ARN, ROLE_SESSION_NAME)"
   ]
  },
  {
   "cell_type": "code",
   "execution_count": 38,
   "id": "dd6be833",
   "metadata": {},
   "outputs": [
    {
     "data": {
      "text/plain": [
       "<module 'process_data' from '/home/ec2-user/SageMaker/data/process_data.py'>"
      ]
     },
     "execution_count": 38,
     "metadata": {},
     "output_type": "execute_result"
    }
   ],
   "source": [
    "import importlib\n",
    "importlib.reload(sys.modules['process_data'])\n"
   ]
  },
  {
   "cell_type": "code",
   "execution_count": 5,
   "id": "236ded66",
   "metadata": {},
   "outputs": [],
   "source": [
    "index_filename = f\"preprocessed/{DATA_SET_TYPE}/index_{CONFIG['mimic_data_version']}.csv\"\n",
    "\n",
    "index = fh.get_object(index_filename)"
   ]
  },
  {
   "cell_type": "code",
   "execution_count": 6,
   "id": "4ed1ff36",
   "metadata": {},
   "outputs": [
    {
     "data": {
      "text/html": [
       "<div>\n",
       "<style scoped>\n",
       "    .dataframe tbody tr th:only-of-type {\n",
       "        vertical-align: middle;\n",
       "    }\n",
       "\n",
       "    .dataframe tbody tr th {\n",
       "        vertical-align: top;\n",
       "    }\n",
       "\n",
       "    .dataframe thead th {\n",
       "        text-align: right;\n",
       "    }\n",
       "</style>\n",
       "<table border=\"1\" class=\"dataframe\">\n",
       "  <thead>\n",
       "    <tr style=\"text-align: right;\">\n",
       "      <th></th>\n",
       "      <th>patientid</th>\n",
       "      <th>septic_shock</th>\n",
       "      <th>set</th>\n",
       "    </tr>\n",
       "  </thead>\n",
       "  <tbody>\n",
       "    <tr>\n",
       "      <th>0</th>\n",
       "      <td>29732</td>\n",
       "      <td>False</td>\n",
       "      <td>train</td>\n",
       "    </tr>\n",
       "    <tr>\n",
       "      <th>1</th>\n",
       "      <td>45460</td>\n",
       "      <td>False</td>\n",
       "      <td>train</td>\n",
       "    </tr>\n",
       "    <tr>\n",
       "      <th>2</th>\n",
       "      <td>27931</td>\n",
       "      <td>False</td>\n",
       "      <td>train</td>\n",
       "    </tr>\n",
       "    <tr>\n",
       "      <th>3</th>\n",
       "      <td>45688</td>\n",
       "      <td>True</td>\n",
       "      <td>train</td>\n",
       "    </tr>\n",
       "    <tr>\n",
       "      <th>4</th>\n",
       "      <td>28997</td>\n",
       "      <td>False</td>\n",
       "      <td>train</td>\n",
       "    </tr>\n",
       "    <tr>\n",
       "      <th>...</th>\n",
       "      <td>...</td>\n",
       "      <td>...</td>\n",
       "      <td>...</td>\n",
       "    </tr>\n",
       "    <tr>\n",
       "      <th>4583</th>\n",
       "      <td>51783</td>\n",
       "      <td>False</td>\n",
       "      <td>val</td>\n",
       "    </tr>\n",
       "    <tr>\n",
       "      <th>4584</th>\n",
       "      <td>51384</td>\n",
       "      <td>True</td>\n",
       "      <td>val</td>\n",
       "    </tr>\n",
       "    <tr>\n",
       "      <th>4585</th>\n",
       "      <td>58261</td>\n",
       "      <td>True</td>\n",
       "      <td>val</td>\n",
       "    </tr>\n",
       "    <tr>\n",
       "      <th>4586</th>\n",
       "      <td>54355</td>\n",
       "      <td>False</td>\n",
       "      <td>val</td>\n",
       "    </tr>\n",
       "    <tr>\n",
       "      <th>4587</th>\n",
       "      <td>57110</td>\n",
       "      <td>True</td>\n",
       "      <td>val</td>\n",
       "    </tr>\n",
       "  </tbody>\n",
       "</table>\n",
       "<p>4588 rows × 3 columns</p>\n",
       "</div>"
      ],
      "text/plain": [
       "      patientid  septic_shock    set\n",
       "0         29732         False  train\n",
       "1         45460         False  train\n",
       "2         27931         False  train\n",
       "3         45688          True  train\n",
       "4         28997         False  train\n",
       "...         ...           ...    ...\n",
       "4583      51783         False    val\n",
       "4584      51384          True    val\n",
       "4585      58261          True    val\n",
       "4586      54355         False    val\n",
       "4587      57110          True    val\n",
       "\n",
       "[4588 rows x 3 columns]"
      ]
     },
     "execution_count": 6,
     "metadata": {},
     "output_type": "execute_result"
    }
   ],
   "source": [
    "index"
   ]
  },
  {
   "cell_type": "code",
   "execution_count": 7,
   "id": "ec565ac5",
   "metadata": {},
   "outputs": [],
   "source": [
    "#feature_cols_adjusted = ['arterial_blood_pressure_systolic', 'arterial_blood_pressure_diastolic', 'arterial_blood_pressure_mean','respiratory_rate', \"heart_rate\"]\n",
    "feature_cols_adjusted = ['arterial_blood_pressure_systolic', 'arterial_blood_pressure_diastolic', 'arterial_blood_pressure_mean', 'respiratory_rate', \"heart_rate\"]\n",
    "feature_cols = list(feature_cols_adjusted + [\"M\", \"F\", \"(14, 20]\", \"(20, 30]\", \"(30, 40]\", \"(40, 50]\", \"(50, 70]\", \"(70, 90]\"])"
   ]
  },
  {
   "cell_type": "code",
   "execution_count": 8,
   "id": "c30d127f",
   "metadata": {},
   "outputs": [],
   "source": [
    "with open('feature_stats_0.0.1.pkl', 'rb') as f:\n",
    "    feature_stats = pickle.load(f)\n",
    "\n",
    "feature_stats[\"patient_weight\"] = {\n",
    "    \"mean\": 85.56,\n",
    "    \"std\": 31.33\n",
    "}\n",
    "\n",
    "means = {}\n",
    "std = {}\n",
    "for key in feature_stats.keys():\n",
    "    if key in feature_cols:\n",
    "        means[key] = feature_stats[key][\"mean\"]\n",
    "        std[key] = feature_stats[key][\"std\"]"
   ]
  },
  {
   "cell_type": "code",
   "execution_count": 63,
   "id": "401d22a0",
   "metadata": {},
   "outputs": [],
   "source": [
    "from tqdm import tqdm\n",
    "\n",
    "#sep = list(set(pd.read_csv(\"concept_sepsis_query.csv\")[\"patientid\"]))\n",
    "\n",
    "def format_labels(df):\n",
    "    if df[\"septic_shock\"].any():\n",
    "        df = df.reset_index(drop=True)\n",
    "        df = df.iloc[:int(df[\"septic_shock_onset\"].iloc[0])]\n",
    "    return df\n",
    "\n",
    "def zscore(df, means, std):\n",
    "    return (df[means.keys()] - means) / std\n",
    "\n",
    "def one_hot_encode(df, col, categories=None):\n",
    "    if categories is not None:\n",
    "        df[col] = df[col].astype(pd.CategoricalDtype(categories=categories, ordered=True))\n",
    "    dummies = pd.get_dummies(df[col])\n",
    "    df = pd.concat([df, dummies], axis=1)\n",
    "    return df\n",
    "\n",
    "def get_set(icu_df, means, stds):\n",
    "    try:\n",
    "        icu_df = icu_df.sort_values(\"chart_time\")\n",
    "        icu_df = format_labels(icu_df)\n",
    "        icu_df[list(means.keys())] = zscore(icu_df, means, stds)\n",
    "        icu_df = one_hot_encode(icu_df, \"gender\", categories=[\"M\", \"F\"])\n",
    "        icu_df[\"age_bins\"] = pd.cut(icu_df[\"age\"], [14, 20, 30, 40, 50, 70, 90])\n",
    "        icu_df = one_hot_encode(icu_df, \"age_bins\")\n",
    "        icu_df.columns = [str(col) for col in icu_df.columns]\n",
    "        feature_columns = list(feature_cols_adjusted + [\"M\", \"F\", \"(14, 20]\", \"(20, 30]\", \"(30, 40]\", \"(40, 50]\", \"(50, 70]\", \"(70, 90]\"])\n",
    "        X, y, _ = process_dataframe(icu_df, feature_columns, \"septic_shock\", 48)\n",
    "        #X, y = no_padding(icu_df, feature_columns, 'septic_shock')\n",
    "        #y = y + 1\n",
    "        return X, y[:, :, 0], feature_columns\n",
    "    except Exception as e:\n",
    "        print(f\"Error for icu {icu_df.iloc['patientid']}: {e}\")\n",
    "\n",
    "def get_dataframe(patientid):\n",
    "    df = fh.get_object(f\"preprocessed/{DATA_SET_TYPE}/{patientid}_{CONFIG['mimic_data_version']}.csv\")\n",
    "    return df\n",
    "\n",
    "def get_network_input(patientid):\n",
    "    X, y, feature_columns = get_set(get_dataframe(patientid), means, std)\n",
    "    return X, y, feature_columns\n",
    "\n",
    "def get_network_input_batch(patientids):\n",
    "    X_list = []\n",
    "    y_list = []\n",
    "    for p in patientids:\n",
    "        X, y, feature_columns = get_network_input(p)\n",
    "        X_list.append(X)\n",
    "        y_list.append(y)\n",
    "    X = np.concatenate(X_list, axis=0)\n",
    "    y = np.expand_dims(np.concatenate(y_list, axis=0), axis=2)\n",
    "    return X, y, feature_columns\n",
    "                       \n",
    "def get_network_input_batch_gen(patientids, batch_size):\n",
    "    batch_number = len(patientids) // batch_size\n",
    "    random.shuffle(patientids)\n",
    "\n",
    "    for i in range(batch_number + 1):\n",
    "        batch_start = i * batch_size\n",
    "        batch_end = i * batch_size + batch_size\n",
    "        if i == batch_number:\n",
    "            yield get_network_input_batch(patientids[batch_start:])\n",
    "        else:\n",
    "            yield get_network_input_batch(patientids[batch_start: batch_end])\n",
    "\n",
    "def balance(dataset):\n",
    "    df_sep = dataset[dataset[\"septic_shock\"] == True]\n",
    "    df_nosep = dataset[dataset[\"septic_shock\"] == False]\n",
    "\n",
    "    df_sep_len = len(df_sep)\n",
    "    df_nosep_len = len(df_nosep)\n",
    "    init_ratio = df_sep_len / df_nosep_len\n",
    "    delta_ratio = 1 - init_ratio\n",
    "    df_sep_add = int(df_nosep_len * delta_ratio)\n",
    "    df_sep_sample = df_sep.sample(df_sep_add, replace=True)\n",
    "    dataset = pd.concat([dataset, df_sep_sample])\n",
    "    return dataset"
   ]
  },
  {
   "cell_type": "code",
   "execution_count": 64,
   "id": "924cb24e",
   "metadata": {},
   "outputs": [],
   "source": [
    "training_set = index[index[\"set\"] == \"train\"]\n"
   ]
  },
  {
   "cell_type": "code",
   "execution_count": 65,
   "id": "146945b6",
   "metadata": {
    "scrolled": true
   },
   "outputs": [],
   "source": [
    "test_patient = index[index[\"septic_shock\"] == True][\"patientid\"].iloc[2]\n",
    "df = get_dataframe(test_patient)\n",
    "X, y, feature_columns = get_network_input(test_patient)"
   ]
  },
  {
   "cell_type": "code",
   "execution_count": 66,
   "id": "537075f2",
   "metadata": {},
   "outputs": [],
   "source": [
    "X, y, feature_columns = get_set(df, means, std)"
   ]
  },
  {
   "cell_type": "code",
   "execution_count": 67,
   "id": "eab26904",
   "metadata": {},
   "outputs": [
    {
     "data": {
      "text/plain": [
       "array([[[ 0.39107925, -0.15857143,  0.72746442, -0.49432739,\n",
       "         -0.80518293,  1.        ,  0.        ,  0.        ,\n",
       "          0.        ,  0.        ,  0.        ,  0.        ,\n",
       "          1.        ],\n",
       "        [-0.52489048,  0.34142857,  0.30574591,  0.15397083,\n",
       "         -1.01859756,  1.        ,  0.        ,  0.        ,\n",
       "          0.        ,  0.        ,  0.        ,  0.        ,\n",
       "          1.        ],\n",
       "        [-0.44524094,  0.34142857,  0.35846073, -0.33225284,\n",
       "         -1.07957317,  1.        ,  0.        ,  0.        ,\n",
       "          0.        ,  0.        ,  0.        ,  0.        ,\n",
       "          1.        ],\n",
       "        [-0.48506571,  0.05571429,  0.2266737 ,  0.31604538,\n",
       "         -0.89664634,  1.        ,  0.        ,  0.        ,\n",
       "          0.        ,  0.        ,  0.        ,  0.        ,\n",
       "          1.        ],\n",
       "        [-0.44524094,  0.77      ,  0.51660517, -0.17017828,\n",
       "         -1.04908537,  1.        ,  0.        ,  0.        ,\n",
       "          0.        ,  0.        ,  0.        ,  0.        ,\n",
       "          1.        ],\n",
       "        [-1.40103544, -0.58714286, -0.61676331,  0.80226904,\n",
       "         -1.01859756,  1.        ,  0.        ,  0.        ,\n",
       "          0.        ,  0.        ,  0.        ,  0.        ,\n",
       "          1.        ],\n",
       "        [-1.        , -1.        , -1.        , -1.        ,\n",
       "         -1.        , -1.        , -1.        , -1.        ,\n",
       "         -1.        , -1.        , -1.        , -1.        ,\n",
       "         -1.        ],\n",
       "        [-1.        , -1.        , -1.        , -1.        ,\n",
       "         -1.        , -1.        , -1.        , -1.        ,\n",
       "         -1.        , -1.        , -1.        , -1.        ,\n",
       "         -1.        ],\n",
       "        [-1.        , -1.        , -1.        , -1.        ,\n",
       "         -1.        , -1.        , -1.        , -1.        ,\n",
       "         -1.        , -1.        , -1.        , -1.        ,\n",
       "         -1.        ],\n",
       "        [-1.        , -1.        , -1.        , -1.        ,\n",
       "         -1.        , -1.        , -1.        , -1.        ,\n",
       "         -1.        , -1.        , -1.        , -1.        ,\n",
       "         -1.        ],\n",
       "        [-1.        , -1.        , -1.        , -1.        ,\n",
       "         -1.        , -1.        , -1.        , -1.        ,\n",
       "         -1.        , -1.        , -1.        , -1.        ,\n",
       "         -1.        ],\n",
       "        [-1.        , -1.        , -1.        , -1.        ,\n",
       "         -1.        , -1.        , -1.        , -1.        ,\n",
       "         -1.        , -1.        , -1.        , -1.        ,\n",
       "         -1.        ],\n",
       "        [-1.        , -1.        , -1.        , -1.        ,\n",
       "         -1.        , -1.        , -1.        , -1.        ,\n",
       "         -1.        , -1.        , -1.        , -1.        ,\n",
       "         -1.        ],\n",
       "        [-1.        , -1.        , -1.        , -1.        ,\n",
       "         -1.        , -1.        , -1.        , -1.        ,\n",
       "         -1.        , -1.        , -1.        , -1.        ,\n",
       "         -1.        ],\n",
       "        [-1.        , -1.        , -1.        , -1.        ,\n",
       "         -1.        , -1.        , -1.        , -1.        ,\n",
       "         -1.        , -1.        , -1.        , -1.        ,\n",
       "         -1.        ],\n",
       "        [-1.        , -1.        , -1.        , -1.        ,\n",
       "         -1.        , -1.        , -1.        , -1.        ,\n",
       "         -1.        , -1.        , -1.        , -1.        ,\n",
       "         -1.        ],\n",
       "        [-1.        , -1.        , -1.        , -1.        ,\n",
       "         -1.        , -1.        , -1.        , -1.        ,\n",
       "         -1.        , -1.        , -1.        , -1.        ,\n",
       "         -1.        ],\n",
       "        [-1.        , -1.        , -1.        , -1.        ,\n",
       "         -1.        , -1.        , -1.        , -1.        ,\n",
       "         -1.        , -1.        , -1.        , -1.        ,\n",
       "         -1.        ],\n",
       "        [-1.        , -1.        , -1.        , -1.        ,\n",
       "         -1.        , -1.        , -1.        , -1.        ,\n",
       "         -1.        , -1.        , -1.        , -1.        ,\n",
       "         -1.        ],\n",
       "        [-1.        , -1.        , -1.        , -1.        ,\n",
       "         -1.        , -1.        , -1.        , -1.        ,\n",
       "         -1.        , -1.        , -1.        , -1.        ,\n",
       "         -1.        ],\n",
       "        [-1.        , -1.        , -1.        , -1.        ,\n",
       "         -1.        , -1.        , -1.        , -1.        ,\n",
       "         -1.        , -1.        , -1.        , -1.        ,\n",
       "         -1.        ],\n",
       "        [-1.        , -1.        , -1.        , -1.        ,\n",
       "         -1.        , -1.        , -1.        , -1.        ,\n",
       "         -1.        , -1.        , -1.        , -1.        ,\n",
       "         -1.        ],\n",
       "        [-1.        , -1.        , -1.        , -1.        ,\n",
       "         -1.        , -1.        , -1.        , -1.        ,\n",
       "         -1.        , -1.        , -1.        , -1.        ,\n",
       "         -1.        ],\n",
       "        [-1.        , -1.        , -1.        , -1.        ,\n",
       "         -1.        , -1.        , -1.        , -1.        ,\n",
       "         -1.        , -1.        , -1.        , -1.        ,\n",
       "         -1.        ],\n",
       "        [-1.        , -1.        , -1.        , -1.        ,\n",
       "         -1.        , -1.        , -1.        , -1.        ,\n",
       "         -1.        , -1.        , -1.        , -1.        ,\n",
       "         -1.        ],\n",
       "        [-1.        , -1.        , -1.        , -1.        ,\n",
       "         -1.        , -1.        , -1.        , -1.        ,\n",
       "         -1.        , -1.        , -1.        , -1.        ,\n",
       "         -1.        ],\n",
       "        [-1.        , -1.        , -1.        , -1.        ,\n",
       "         -1.        , -1.        , -1.        , -1.        ,\n",
       "         -1.        , -1.        , -1.        , -1.        ,\n",
       "         -1.        ],\n",
       "        [-1.        , -1.        , -1.        , -1.        ,\n",
       "         -1.        , -1.        , -1.        , -1.        ,\n",
       "         -1.        , -1.        , -1.        , -1.        ,\n",
       "         -1.        ],\n",
       "        [-1.        , -1.        , -1.        , -1.        ,\n",
       "         -1.        , -1.        , -1.        , -1.        ,\n",
       "         -1.        , -1.        , -1.        , -1.        ,\n",
       "         -1.        ],\n",
       "        [-1.        , -1.        , -1.        , -1.        ,\n",
       "         -1.        , -1.        , -1.        , -1.        ,\n",
       "         -1.        , -1.        , -1.        , -1.        ,\n",
       "         -1.        ],\n",
       "        [-1.        , -1.        , -1.        , -1.        ,\n",
       "         -1.        , -1.        , -1.        , -1.        ,\n",
       "         -1.        , -1.        , -1.        , -1.        ,\n",
       "         -1.        ],\n",
       "        [-1.        , -1.        , -1.        , -1.        ,\n",
       "         -1.        , -1.        , -1.        , -1.        ,\n",
       "         -1.        , -1.        , -1.        , -1.        ,\n",
       "         -1.        ],\n",
       "        [-1.        , -1.        , -1.        , -1.        ,\n",
       "         -1.        , -1.        , -1.        , -1.        ,\n",
       "         -1.        , -1.        , -1.        , -1.        ,\n",
       "         -1.        ],\n",
       "        [-1.        , -1.        , -1.        , -1.        ,\n",
       "         -1.        , -1.        , -1.        , -1.        ,\n",
       "         -1.        , -1.        , -1.        , -1.        ,\n",
       "         -1.        ],\n",
       "        [-1.        , -1.        , -1.        , -1.        ,\n",
       "         -1.        , -1.        , -1.        , -1.        ,\n",
       "         -1.        , -1.        , -1.        , -1.        ,\n",
       "         -1.        ],\n",
       "        [-1.        , -1.        , -1.        , -1.        ,\n",
       "         -1.        , -1.        , -1.        , -1.        ,\n",
       "         -1.        , -1.        , -1.        , -1.        ,\n",
       "         -1.        ],\n",
       "        [-1.        , -1.        , -1.        , -1.        ,\n",
       "         -1.        , -1.        , -1.        , -1.        ,\n",
       "         -1.        , -1.        , -1.        , -1.        ,\n",
       "         -1.        ],\n",
       "        [-1.        , -1.        , -1.        , -1.        ,\n",
       "         -1.        , -1.        , -1.        , -1.        ,\n",
       "         -1.        , -1.        , -1.        , -1.        ,\n",
       "         -1.        ],\n",
       "        [-1.        , -1.        , -1.        , -1.        ,\n",
       "         -1.        , -1.        , -1.        , -1.        ,\n",
       "         -1.        , -1.        , -1.        , -1.        ,\n",
       "         -1.        ],\n",
       "        [-1.        , -1.        , -1.        , -1.        ,\n",
       "         -1.        , -1.        , -1.        , -1.        ,\n",
       "         -1.        , -1.        , -1.        , -1.        ,\n",
       "         -1.        ],\n",
       "        [-1.        , -1.        , -1.        , -1.        ,\n",
       "         -1.        , -1.        , -1.        , -1.        ,\n",
       "         -1.        , -1.        , -1.        , -1.        ,\n",
       "         -1.        ],\n",
       "        [-1.        , -1.        , -1.        , -1.        ,\n",
       "         -1.        , -1.        , -1.        , -1.        ,\n",
       "         -1.        , -1.        , -1.        , -1.        ,\n",
       "         -1.        ],\n",
       "        [-1.        , -1.        , -1.        , -1.        ,\n",
       "         -1.        , -1.        , -1.        , -1.        ,\n",
       "         -1.        , -1.        , -1.        , -1.        ,\n",
       "         -1.        ],\n",
       "        [-1.        , -1.        , -1.        , -1.        ,\n",
       "         -1.        , -1.        , -1.        , -1.        ,\n",
       "         -1.        , -1.        , -1.        , -1.        ,\n",
       "         -1.        ],\n",
       "        [-1.        , -1.        , -1.        , -1.        ,\n",
       "         -1.        , -1.        , -1.        , -1.        ,\n",
       "         -1.        , -1.        , -1.        , -1.        ,\n",
       "         -1.        ],\n",
       "        [-1.        , -1.        , -1.        , -1.        ,\n",
       "         -1.        , -1.        , -1.        , -1.        ,\n",
       "         -1.        , -1.        , -1.        , -1.        ,\n",
       "         -1.        ],\n",
       "        [-1.        , -1.        , -1.        , -1.        ,\n",
       "         -1.        , -1.        , -1.        , -1.        ,\n",
       "         -1.        , -1.        , -1.        , -1.        ,\n",
       "         -1.        ],\n",
       "        [-1.        , -1.        , -1.        , -1.        ,\n",
       "         -1.        , -1.        , -1.        , -1.        ,\n",
       "         -1.        , -1.        , -1.        , -1.        ,\n",
       "         -1.        ]]])"
      ]
     },
     "execution_count": 67,
     "metadata": {},
     "output_type": "execute_result"
    }
   ],
   "source": [
    "X"
   ]
  },
  {
   "cell_type": "code",
   "execution_count": 68,
   "id": "104328e3",
   "metadata": {},
   "outputs": [
    {
     "name": "stdout",
     "output_type": "stream",
     "text": [
      "the shape of train_x: (3172, 48, 13)\n",
      "the shape of train_y: (3172, 48, 1)\n"
     ]
    }
   ],
   "source": [
    "training_set = index[index[\"set\"] == \"train\"]\n",
    "balanced_set = balance(training_set)\n",
    "train_x, train_y, _ = get_network_input_batch(list(balanced_set[\"patientid\"]))\n",
    "\n",
    "# the number of training data, the number of records in a patient, the number of features\n",
    "print('the shape of train_x:', train_x.shape)\n",
    "print('the shape of train_y:', train_y.shape)"
   ]
  },
  {
   "cell_type": "code",
   "execution_count": 73,
   "id": "371bb7a1",
   "metadata": {},
   "outputs": [
    {
     "data": {
      "text/plain": [
       "array([ 0.        , -0.23      ,  0.44227728, ...,  0.        ,\n",
       "        0.        ,  1.        ])"
      ]
     },
     "execution_count": 73,
     "metadata": {},
     "output_type": "execute_result"
    }
   ],
   "source": [
    "new_arr = np.delete(train_x, -1)\n",
    "new_arr"
   ]
  },
  {
   "cell_type": "code",
   "execution_count": 154,
   "id": "329fa609",
   "metadata": {},
   "outputs": [
    {
     "data": {
      "text/plain": [
       "array([], dtype=float64)"
      ]
     },
     "execution_count": 154,
     "metadata": {},
     "output_type": "execute_result"
    }
   ],
   "source": [
    "np.delete(train_x[500][40], np.where(train_x[500][40] == -1))"
   ]
  },
  {
   "cell_type": "code",
   "execution_count": 153,
   "id": "02a4b124",
   "metadata": {},
   "outputs": [
    {
     "data": {
      "text/plain": [
       "array([-1., -1., -1., -1., -1., -1., -1., -1., -1., -1., -1., -1., -1.])"
      ]
     },
     "execution_count": 153,
     "metadata": {},
     "output_type": "execute_result"
    }
   ],
   "source": [
    "train_x[500][40]"
   ]
  },
  {
   "cell_type": "code",
   "execution_count": 175,
   "id": "78956345",
   "metadata": {},
   "outputs": [],
   "source": [
    "train_x_array = []\n",
    "train_x_seq = []\n",
    "for i in range(len(train_x)):\n",
    "    for j in range(len(train_x[0])):\n",
    "        train_x_seq.append(np.delete(train_x[i][j], np.where(train_x[i][j] == -1)))\n",
    "            \n",
    "    train_x_array.append(train_x_seq)\n",
    "    train_x_seq = []\n"
   ]
  },
  {
   "cell_type": "code",
   "execution_count": 176,
   "id": "e0751c7c",
   "metadata": {},
   "outputs": [
    {
     "data": {
      "text/plain": [
       "3172"
      ]
     },
     "execution_count": 176,
     "metadata": {},
     "output_type": "execute_result"
    }
   ],
   "source": [
    "len(train_x_array)"
   ]
  },
  {
   "cell_type": "code",
   "execution_count": 180,
   "id": "3934f7fa",
   "metadata": {},
   "outputs": [
    {
     "data": {
      "text/plain": [
       "48"
      ]
     },
     "execution_count": 180,
     "metadata": {},
     "output_type": "execute_result"
    }
   ],
   "source": [
    "(len(train_x_array[3]))"
   ]
  },
  {
   "cell_type": "code",
   "execution_count": 17,
   "id": "0ef27706",
   "metadata": {},
   "outputs": [
    {
     "name": "stdout",
     "output_type": "stream",
     "text": [
      "the shape of train_x: (3172, 48, 13)\n",
      "the shape of train_y: (3172, 48, 1)\n"
     ]
    }
   ],
   "source": [
    "training_set = index[index[\"set\"] == \"train\"]\n",
    "balanced_set = balance(training_set)\n",
    "train_x, train_y, _ = get_network_input_batch(list(balanced_set[\"patientid\"]))\n",
    "\n",
    "# the number of training data, the number of records in a patient, the number of features\n",
    "print('the shape of train_x:', train_x.shape)\n",
    "print('the shape of train_y:', train_y.shape)"
   ]
  },
  {
   "cell_type": "code",
   "execution_count": 15,
   "id": "3830f9a5",
   "metadata": {},
   "outputs": [],
   "source": [
    "val_set = index[index[\"set\"] == \"val\"]\n",
    "val_x, val_y, _ = get_network_input_batch(list(val_set[\"patientid\"]))\n",
    "\n",
    "# the number of training data, the number of records in a patient, the number of features\n",
    "print('the shape of val_x:', val_x.shape)\n",
    "print('the shape of val_y:', val_y.shape)"
   ]
  },
  {
   "cell_type": "code",
   "execution_count": 28,
   "id": "eec628e6",
   "metadata": {},
   "outputs": [],
   "source": [
    "np.save('save/mimic_train_x', train_x)\n",
    "np.save('save/mimic_train_y', train_y)"
   ]
  },
  {
   "cell_type": "code",
   "execution_count": 33,
   "id": "39425c95",
   "metadata": {},
   "outputs": [],
   "source": [
    "np.save('save/mimic_val_x', val_x)\n",
    "np.save('save/mimic_val_y', val_y)"
   ]
  },
  {
   "cell_type": "code",
   "execution_count": null,
   "id": "7672afd4",
   "metadata": {},
   "outputs": [],
   "source": []
  }
 ],
 "metadata": {
  "kernelspec": {
   "display_name": "conda_pytorch_latest_p36",
   "language": "python",
   "name": "conda_pytorch_latest_p36"
  },
  "language_info": {
   "codemirror_mode": {
    "name": "ipython",
    "version": 3
   },
   "file_extension": ".py",
   "mimetype": "text/x-python",
   "name": "python",
   "nbconvert_exporter": "python",
   "pygments_lexer": "ipython3",
   "version": "3.6.13"
  }
 },
 "nbformat": 4,
 "nbformat_minor": 5
}
